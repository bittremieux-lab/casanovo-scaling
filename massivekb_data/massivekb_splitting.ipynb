{
 "cells": [
  {
   "cell_type": "code",
   "execution_count": 15,
   "id": "4c8a511c-2f10-4e73-a8bd-9803b3896fac",
   "metadata": {},
   "outputs": [],
   "source": [
    "import os\n",
    "\n",
    "mgf_file = \"/mnt/data/cdens/casanovo-scaling/massivekb_data/massiveKB_3cac03860ff7453a821332ab4cff20f4.mgf\"\n",
    "cache_dir = \"massiveKB_3cac0386\"\n",
    "os.makedirs(cache_dir, exist_ok=True)"
   ]
  },
  {
   "cell_type": "code",
   "execution_count": 16,
   "id": "ee063e93-1712-4c0e-862c-98a2c91ef581",
   "metadata": {},
   "outputs": [],
   "source": [
    "from analysis import create_sub_mgf\n",
    "\n",
    "# Create the sub file and set the mgf file to the sub mgf\n",
    "mgf_file = create_sub_mgf(mgf_file, cache_dir, num_spectra=10000)\n",
    "# Also change cache dir so we dont override the full mgf cache\n",
    "cache_dir = \"massiveKB_3cac0386_sub\"\n"
   ]
  },
  {
   "cell_type": "code",
   "execution_count": 17,
   "id": "1972d84b-f6d7-4386-900a-d8f7e42fec02",
   "metadata": {},
   "outputs": [
    {
     "name": "stderr",
     "output_type": "stream",
     "text": [
      "  0%|                                                                                                                                      | 10000/66000000 [00:01<2:33:48, 7150.68it/s]\n"
     ]
    },
    {
     "name": "stdout",
     "output_type": "stream",
     "text": [
      "Got 0 failed spectra in total\n"
     ]
    }
   ],
   "source": [
    "from analysis import create_sequence_index\n",
    "\n",
    "df = create_sequence_index(mgf_file, cache_dir, total=int(66e6))\n",
    "unique_sequences = list(df[\"unmodified_sequence\"].unique())"
   ]
  },
  {
   "cell_type": "code",
   "execution_count": 18,
   "id": "d378bc7a-e3f8-470a-9368-332a814b99fa",
   "metadata": {},
   "outputs": [
    {
     "name": "stderr",
     "output_type": "stream",
     "text": [
      "100%|██████████████████████████████████████████████████████████████████████████████████████████████████████████████████████████████████████████████| 999/999 [00:00<00:00, 21364.70it/s]\n"
     ]
    },
    {
     "data": {
      "text/plain": [
       "array([[ 0, 85, 80, ..., 88, 86, 91],\n",
       "       [85,  0, 77, ..., 74, 81, 88],\n",
       "       [80, 77,  0, ..., 70, 90, 85],\n",
       "       ...,\n",
       "       [88, 74, 70, ...,  0, 88, 94],\n",
       "       [86, 81, 90, ..., 88,  0, 80],\n",
       "       [91, 88, 85, ..., 94, 80,  0]], dtype=uint8)"
      ]
     },
     "execution_count": 18,
     "metadata": {},
     "output_type": "execute_result"
    }
   ],
   "source": [
    "from dist_matrix import square_dist_matrix\n",
    "import random\n",
    "import numpy as np\n",
    "\n",
    "n_datasail = 1000\n",
    "\n",
    "random_seqs_cache_file = os.path.join(cache_dir, f\"sequences_{n_datasail}.npy\")\n",
    "if os.path.exists(random_seqs_cache_file):\n",
    "    random_seqs = np.load(random_seqs_cache_file, allow_pickle=True)\n",
    "\n",
    "else:\n",
    "    random_seqs = random.sample(unique_sequences, n_datasail)\n",
    "    np.save(random_seqs_cache_file, random_seqs, allow_pickle=True)\n",
    "\n",
    "dist_matrix = square_dist_matrix(random_seqs, cache_dir, n_threads=16)\n",
    "dist_matrix"
   ]
  },
  {
   "cell_type": "code",
   "execution_count": null,
   "id": "55ed8383-c843-4dbb-ae8c-c630b5d4bf2e",
   "metadata": {},
   "outputs": [],
   "source": [
    "from analysis import split_datasail, get_train_val_test\n",
    "\n",
    "split_df = split_datasail(random_seqs, dist_matrix, [0.9, 0.05, 0.05], e_clusters=200, epsilon=0.1, threads=16,\n",
    "                          cache_dir=cache_dir)\n",
    "train, val, test = get_train_val_test(split_df)\n",
    "total = len(random_seqs)\n",
    "print(f\"\\nDatasail produced following splits: (total={total})\")\n",
    "print(f\"TRAIN: {len(train)} ({len(train) * 100 / total:.2f}%)\")\n",
    "print(f\"VAL:   {len(val)} ({len(val) * 100 / total:.2f}%)\")\n",
    "print(f\"TEST:  {len(test)} ({len(test) * 100 / total:.2f}%)\")"
   ]
  },
  {
   "cell_type": "code",
   "execution_count": null,
   "id": "11009dfc-1b96-4c9f-bf40-7de0ba54ff0f",
   "metadata": {},
   "outputs": [],
   "source": [
    "import matplotlib.pyplot as plt\n",
    "\n",
    "plt.hist(train['sequence'].str.len())\n",
    "plt.show()\n",
    "\n",
    "plt.hist(val['sequence'].str.len())\n",
    "plt.show()\n",
    "\n",
    "plt.hist(test['sequence'].str.len())\n",
    "plt.show()"
   ]
  },
  {
   "cell_type": "code",
   "execution_count": 20,
   "id": "0e298a15-62dc-4d16-a73f-08cdffb2a049",
   "metadata": {},
   "outputs": [
    {
     "name": "stderr",
     "output_type": "stream",
     "text": [
      "100%|████████████████████████████████████████████████████████████████████████████████████████████████████████████████████████████████████████████| 6927/6927 [00:00<00:00, 15373.91it/s]\n"
     ]
    }
   ],
   "source": [
    "from analysis import add_all_to_split\n",
    "\n",
    "full_split_df = add_all_to_split(split_df, unique_sequences, n_threads=16, cache_dir=cache_dir)"
   ]
  },
  {
   "cell_type": "code",
   "execution_count": null,
   "id": "a9a7f15d-6460-4103-85a9-103b7a0a2cf2",
   "metadata": {},
   "outputs": [],
   "source": [
    "import matplotlib.pyplot as plt\n",
    "\n",
    "train, val, test = get_train_val_test(full_split_df)\n",
    "total = len(full_split_df)\n",
    "print(f\"\\nAdding all unmodified sequences produced following splits: (total={total})\")\n",
    "print(f\"TRAIN: {len(train)} ({len(train) * 100 / total:.2f}%)\")\n",
    "print(f\"VAL:   {len(val)} ({len(val) * 100 / total:.2f}%)\")\n",
    "print(f\"TEST:  {len(test)} ({len(test) * 100 / total:.2f}%)\")\n",
    "\n",
    "plt.hist(train['sequence'].str.len())\n",
    "plt.show()\n",
    "\n",
    "plt.hist(val['sequence'].str.len())\n",
    "plt.show()\n",
    "\n",
    "plt.hist(test['sequence'].str.len())\n",
    "plt.show()"
   ]
  },
  {
   "cell_type": "code",
   "execution_count": 23,
   "id": "5db746ca-0e4d-478d-8dc8-c3741be4647e",
   "metadata": {},
   "outputs": [
    {
     "name": "stderr",
     "output_type": "stream",
     "text": [
      "100%|█████████████████████████████████████████████████████████████████████████████████████████████████████████████████████████████████████████| 10000/10000.0 [00:01<00:00, 6445.30it/s]\n"
     ]
    }
   ],
   "source": [
    "from analysis import create_val_test_traini\n",
    "\n",
    "# From now on, no more caching\n",
    "\n",
    "output_dir = os.path.join(cache_dir, \"subsets\")\n",
    "\n",
    "# First, iterate over the full mgf again and create val.mgf and test.mgf, also create the train index\n",
    "train_spectra, train_index = create_val_test_traini(mgf_file, full_split_df, output_dir, total=1e4)\n"
   ]
  },
  {
   "cell_type": "code",
   "execution_count": 34,
   "id": "791bfe1e-c4cf-45e3-a542-cf4be378313a",
   "metadata": {},
   "outputs": [
    {
     "name": "stdout",
     "output_type": "stream",
     "text": [
      "The autoreload extension is already loaded. To reload it, use:\n",
      "  %reload_ext autoreload\n",
      "There are 1548 peptides with at least 2 spectra\n",
      "Getting 2 spectra for 100 peptides\n",
      "Sufficient peptides with sufficient spectra, number of spectra selected: 200\n",
      "\n",
      "Getting 2 spectra for 1000 peptides\n",
      "Sufficient peptides with sufficient spectra, number of spectra selected: 2000\n",
      "\n",
      "There are 40 peptides with at least 5 spectra\n",
      "Getting 5 spectra for 100 peptides\n",
      "Got 200 spectra from peptides with enough spectra\n",
      "Added all spectra from random peptides, selected 276 spectra in total now\n",
      "\n",
      "Getting 5 spectra for 1000 peptides\n",
      "Got 200 spectra from peptides with enough spectra\n",
      "Added all spectra from random peptides, selected 1400 spectra in total now\n",
      "\n"
     ]
    }
   ],
   "source": [
    "from analysis import create_train_subsets\n",
    "\n",
    "n_train_spectra = [2, 5]\n",
    "n_train_peps = [100, 1000]\n",
    "create_train_subsets(train_spectra, train_index, n_train_spectra, n_train_peps, output_dir)"
   ]
  }
 ],
 "metadata": {
  "kernelspec": {
   "display_name": "Python 3 (ipykernel)",
   "language": "python",
   "name": "python3"
  },
  "language_info": {
   "codemirror_mode": {
    "name": "ipython",
    "version": 3
   },
   "file_extension": ".py",
   "mimetype": "text/x-python",
   "name": "python",
   "nbconvert_exporter": "python",
   "pygments_lexer": "ipython3",
   "version": "3.12.11"
  }
 },
 "nbformat": 4,
 "nbformat_minor": 5
}
