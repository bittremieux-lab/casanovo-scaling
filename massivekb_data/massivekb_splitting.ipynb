{
 "cells": [
  {
   "cell_type": "code",
   "id": "4c8a511c-2f10-4e73-a8bd-9803b3896fac",
   "metadata": {
    "ExecuteTime": {
     "end_time": "2025-10-13T07:42:41.734497Z",
     "start_time": "2025-10-13T07:42:41.731490Z"
    }
   },
   "source": [
    "import os\n",
    "\n",
    "mgf_file = \"/mnt/data/cdens/casanovo-scaling/massivekb_data/massiveKB_3cac0386.mgf\"\n",
    "cache_dir = \"massiveKB_3cac0386_charge\"\n",
    "os.makedirs(cache_dir, exist_ok=True)"
   ],
   "outputs": [],
   "execution_count": 1
  },
  {
   "cell_type": "code",
   "execution_count": 16,
   "id": "ee063e93-1712-4c0e-862c-98a2c91ef581",
   "metadata": {},
   "outputs": [],
   "source": [
    "from analysis import create_sub_mgf\n",
    "\n",
    "# Create the sub file and set the mgf file to the sub mgf\n",
    "# mgf_file = create_sub_mgf(mgf_file, cache_dir, num_spectra=10000)\n",
    "# Also change cache dir so we dont override the full mgf cache\n",
    "# cache_dir = \"massiveKB_3cac0386_sub\"\n"
   ]
  },
  {
   "cell_type": "code",
   "id": "1972d84b-f6d7-4386-900a-d8f7e42fec02",
   "metadata": {
    "ExecuteTime": {
     "end_time": "2025-10-13T07:44:24.871830Z",
     "start_time": "2025-10-13T07:42:53.117890Z"
    }
   },
   "source": [
    "from analysis import create_sequence_index\n",
    "\n",
    "df = create_sequence_index(mgf_file, cache_dir, total=int(66e6))\n",
    "unique_sequences = list(df[\"unmodified_sequence\"].unique())"
   ],
   "outputs": [],
   "execution_count": 2
  },
  {
   "cell_type": "code",
   "id": "d378bc7a-e3f8-470a-9368-332a814b99fa",
   "metadata": {
    "ExecuteTime": {
     "end_time": "2025-10-13T07:53:10.246072Z",
     "start_time": "2025-10-13T07:49:26.257209Z"
    }
   },
   "source": [
    "from dist_matrix import square_dist_matrix\n",
    "import random\n",
    "import numpy as np\n",
    "\n",
    "n_datasail = 100000\n",
    "\n",
    "random_seqs_cache_file = os.path.join(cache_dir, f\"sequences_{n_datasail}.npy\")\n",
    "if os.path.exists(random_seqs_cache_file):\n",
    "    random_seqs = np.load(random_seqs_cache_file, allow_pickle=True)\n",
    "\n",
    "else:\n",
    "    random_seqs = random.sample(unique_sequences, n_datasail)\n",
    "    np.save(random_seqs_cache_file, random_seqs, allow_pickle=True)\n",
    "\n",
    "dist_matrix = square_dist_matrix(random_seqs, cache_dir, n_threads=64)\n",
    "dist_matrix"
   ],
   "outputs": [
    {
     "name": "stderr",
     "output_type": "stream",
     "text": [
      "100%|██████████| 99999/99999 [03:32<00:00, 471.35it/s] \n"
     ]
    },
    {
     "data": {
      "text/plain": [
       "array([[ 0, 87, 77, ..., 82, 87, 75],\n",
       "       [87,  0, 86, ..., 82, 91, 83],\n",
       "       [77, 86,  0, ..., 86, 81, 83],\n",
       "       ...,\n",
       "       [82, 82, 86, ...,  0, 91, 87],\n",
       "       [87, 91, 81, ..., 91,  0, 75],\n",
       "       [75, 83, 83, ..., 87, 75,  0]], dtype=uint8)"
      ]
     },
     "execution_count": 4,
     "metadata": {},
     "output_type": "execute_result"
    }
   ],
   "execution_count": 4
  },
  {
   "cell_type": "code",
   "id": "55ed8383-c843-4dbb-ae8c-c630b5d4bf2e",
   "metadata": {
    "ExecuteTime": {
     "end_time": "2025-10-13T09:01:41.841745Z",
     "start_time": "2025-10-13T07:53:27.102150Z"
    }
   },
   "source": [
    "from analysis import split_datasail, get_train_val_test\n",
    "\n",
    "split_df = split_datasail(random_seqs, dist_matrix, [0.9, 0.05, 0.05], e_clusters=200, epsilon=0.1, threads=64,\n",
    "                          cache_dir=cache_dir)\n",
    "train, val, test = get_train_val_test(split_df)\n",
    "total = len(random_seqs)\n",
    "print(f\"\\nDatasail produced following splits: (total={total})\")\n",
    "print(f\"TRAIN: {len(train)} ({len(train) * 100 / total:.2f}%)\")\n",
    "print(f\"VAL:   {len(val)} ({len(val) * 100 / total:.2f}%)\")\n",
    "print(f\"TEST:  {len(test)} ({len(test) * 100 / total:.2f}%)\")"
   ],
   "outputs": [
    {
     "name": "stdout",
     "output_type": "stream",
     "text": [
      "2025-10-13 09:53:27,149 Validating arguments\n",
      "2025-10-13 09:53:27,150 Read data\n",
      "2025-10-13 09:53:27,171 Cluster first set of entities.\n",
      "2025-10-13 09:53:27,472 Cluster 100000 items based on distances\n",
      "2025-10-13 09:54:32,692 Clustering based on distances. Distances above 75.52977484446 cannot end up in same cluster.\n",
      "2025-10-13 10:02:12,964 Clustering finished\n",
      "2025-10-13 10:47:54,748 Reduced number of clusters to 200.\n"
     ]
    },
    {
     "ename": "KeyboardInterrupt",
     "evalue": "",
     "output_type": "error",
     "traceback": [
      "\u001B[31m---------------------------------------------------------------------------\u001B[39m",
      "\u001B[31mKeyboardInterrupt\u001B[39m                         Traceback (most recent call last)",
      "\u001B[36mCell\u001B[39m\u001B[36m \u001B[39m\u001B[32mIn[5]\u001B[39m\u001B[32m, line 3\u001B[39m\n\u001B[32m      1\u001B[39m \u001B[38;5;28;01mfrom\u001B[39;00m\u001B[38;5;250m \u001B[39m\u001B[34;01manalysis\u001B[39;00m\u001B[38;5;250m \u001B[39m\u001B[38;5;28;01mimport\u001B[39;00m split_datasail, get_train_val_test\n\u001B[32m----> \u001B[39m\u001B[32m3\u001B[39m split_df = split_datasail(random_seqs, dist_matrix, [\u001B[32m0.9\u001B[39m, \u001B[32m0.05\u001B[39m, \u001B[32m0.05\u001B[39m], e_clusters=\u001B[32m200\u001B[39m, epsilon=\u001B[32m0.1\u001B[39m, threads=\u001B[32m64\u001B[39m,\n\u001B[32m      4\u001B[39m                           cache_dir=cache_dir)\n\u001B[32m      5\u001B[39m train, val, test = get_train_val_test(split_df)\n\u001B[32m      6\u001B[39m total = \u001B[38;5;28mlen\u001B[39m(random_seqs)\n",
      "\u001B[36mFile \u001B[39m\u001B[32m~/casanovo-scaling/massivekb_data/analysis.py:107\u001B[39m, in \u001B[36msplit_datasail\u001B[39m\u001B[34m(sequences, dist_matrix, splits, e_clusters, epsilon, threads, cache_dir)\u001B[39m\n\u001B[32m    104\u001B[39m     \u001B[38;5;28;01mif\u001B[39;00m os.path.exists(cache_file):\n\u001B[32m    105\u001B[39m         \u001B[38;5;28;01mreturn\u001B[39;00m pd.read_csv(cache_file)\n\u001B[32m--> \u001B[39m\u001B[32m107\u001B[39m e_splits, _, _ = datasail(\n\u001B[32m    108\u001B[39m     verbose=\u001B[33m\"\u001B[39m\u001B[33mD\u001B[39m\u001B[33m\"\u001B[39m,\n\u001B[32m    109\u001B[39m     techniques=[\u001B[33m\"\u001B[39m\u001B[33mC1e\u001B[39m\u001B[33m\"\u001B[39m],\n\u001B[32m    110\u001B[39m     splits=splits,\n\u001B[32m    111\u001B[39m     names=[\u001B[33m\"\u001B[39m\u001B[33mtrain\u001B[39m\u001B[33m\"\u001B[39m, \u001B[33m\"\u001B[39m\u001B[33mval\u001B[39m\u001B[33m\"\u001B[39m, \u001B[33m\"\u001B[39m\u001B[33mtest\u001B[39m\u001B[33m\"\u001B[39m],\n\u001B[32m    112\u001B[39m     runs=\u001B[32m1\u001B[39m,\n\u001B[32m    113\u001B[39m     e_type=\u001B[33m\"\u001B[39m\u001B[33mO\u001B[39m\u001B[33m\"\u001B[39m,\n\u001B[32m    114\u001B[39m     epsilon=epsilon,\n\u001B[32m    115\u001B[39m     e_clusters=e_clusters,\n\u001B[32m    116\u001B[39m     e_data={i: s \u001B[38;5;28;01mfor\u001B[39;00m i, s \u001B[38;5;129;01min\u001B[39;00m \u001B[38;5;28menumerate\u001B[39m(sequences)},\n\u001B[32m    117\u001B[39m     e_dist=(\u001B[38;5;28mlist\u001B[39m(\u001B[38;5;28mrange\u001B[39m(n)), dist_matrix),\n\u001B[32m    118\u001B[39m     threads=threads,\n\u001B[32m    119\u001B[39m )\n\u001B[32m    121\u001B[39m df = pd.DataFrame.from_dict(\n\u001B[32m    122\u001B[39m     e_splits[\u001B[33m\"\u001B[39m\u001B[33mC1e\u001B[39m\u001B[33m\"\u001B[39m][\u001B[32m0\u001B[39m], orient=\u001B[33m\"\u001B[39m\u001B[33mindex\u001B[39m\u001B[33m\"\u001B[39m, columns=[\u001B[33m\"\u001B[39m\u001B[33msplit\u001B[39m\u001B[33m\"\u001B[39m]\n\u001B[32m    123\u001B[39m )\n\u001B[32m    124\u001B[39m df[\u001B[33m\"\u001B[39m\u001B[33msequence\u001B[39m\u001B[33m\"\u001B[39m] = sequences\n",
      "\u001B[36mFile \u001B[39m\u001B[32m~/miniconda3/envs/datasail/lib/python3.12/site-packages/datasail/sail.py:248\u001B[39m, in \u001B[36mdatasail\u001B[39m\u001B[34m(techniques, inter, max_sec, verbose, splits, names, delta, epsilon, runs, solver, cache, cache_dir, linkage, overflow, e_type, e_data, e_weights, e_strat, e_sim, e_dist, e_args, e_clusters, f_type, f_data, f_weights, f_strat, f_sim, f_dist, f_args, f_clusters, threads)\u001B[39m\n\u001B[32m    237\u001B[39m     \u001B[38;5;28;01mreturn\u001B[39;00m Path(x) \u001B[38;5;28;01mif\u001B[39;00m \u001B[38;5;28misinstance\u001B[39m(x, \u001B[38;5;28mstr\u001B[39m) \u001B[38;5;129;01mand\u001B[39;00m x \u001B[38;5;129;01mnot\u001B[39;00m \u001B[38;5;129;01min\u001B[39;00m ALGOS \u001B[38;5;28;01melse\u001B[39;00m x\n\u001B[32m    239\u001B[39m kwargs = validate_args(\n\u001B[32m    240\u001B[39m     output=\u001B[38;5;28;01mNone\u001B[39;00m, techniques=techniques, inter=to_path(inter), max_sec=max_sec, verbosity=verbose,\n\u001B[32m    241\u001B[39m     splits=splits, names=names, delta=delta, epsilon=epsilon, runs=runs, solver=solver, cache=cache,\n\u001B[32m   (...)\u001B[39m\u001B[32m    246\u001B[39m     threads=threads, cli=\u001B[38;5;28;01mFalse\u001B[39;00m, overflow=overflow,\n\u001B[32m    247\u001B[39m )\n\u001B[32m--> \u001B[39m\u001B[32m248\u001B[39m \u001B[38;5;28;01mreturn\u001B[39;00m datasail_main(**kwargs)\n",
      "\u001B[36mFile \u001B[39m\u001B[32m~/miniconda3/envs/datasail/lib/python3.12/site-packages/datasail/routine.py:54\u001B[39m, in \u001B[36mdatasail_main\u001B[39m\u001B[34m(**kwargs)\u001B[39m\n\u001B[32m     52\u001B[39m \u001B[38;5;28;01mif\u001B[39;00m cluster_e:\n\u001B[32m     53\u001B[39m     LOGGER.info(\u001B[33m\"\u001B[39m\u001B[33mCluster first set of entities.\u001B[39m\u001B[33m\"\u001B[39m)\n\u001B[32m---> \u001B[39m\u001B[32m54\u001B[39m     e_dataset = cluster(e_dataset, **kwargs)\n\u001B[32m     55\u001B[39m \u001B[38;5;28;01mif\u001B[39;00m cluster_f:\n\u001B[32m     56\u001B[39m     LOGGER.info(\u001B[33m\"\u001B[39m\u001B[33mCluster second set of entities.\u001B[39m\u001B[33m\"\u001B[39m)\n",
      "\u001B[36mFile \u001B[39m\u001B[32m~/miniconda3/envs/datasail/lib/python3.12/site-packages/datasail/cluster/clustering.py:68\u001B[39m, in \u001B[36mcluster\u001B[39m\u001B[34m(dataset, **kwargs)\u001B[39m\n\u001B[32m     65\u001B[39m     dataset = additional_clustering(dataset, dataset.num_clusters, kwargs[KW_LINKAGE])\n\u001B[32m     67\u001B[39m \u001B[38;5;28;01mif\u001B[39;00m \u001B[38;5;28misinstance\u001B[39m(dataset.similarity, np.ndarray) \u001B[38;5;129;01mor\u001B[39;00m \u001B[38;5;28misinstance\u001B[39m(dataset.distance, np.ndarray):\n\u001B[32m---> \u001B[39m\u001B[32m68\u001B[39m     whatever(dataset.names, dataset.cluster_map, dataset.distance, dataset.similarity)\n\u001B[32m     69\u001B[39m     metric = dataset.similarity \u001B[38;5;28;01mif\u001B[39;00m dataset.similarity \u001B[38;5;129;01mis\u001B[39;00m \u001B[38;5;129;01mnot\u001B[39;00m \u001B[38;5;28;01mNone\u001B[39;00m \u001B[38;5;28;01melse\u001B[39;00m dataset.distance\n\u001B[32m     70\u001B[39m     form = \u001B[33m\"\u001B[39m\u001B[33msimilarity\u001B[39m\u001B[33m\"\u001B[39m \u001B[38;5;28;01mif\u001B[39;00m dataset.similarity \u001B[38;5;129;01mis\u001B[39;00m \u001B[38;5;129;01mnot\u001B[39;00m \u001B[38;5;28;01mNone\u001B[39;00m \u001B[38;5;28;01melse\u001B[39;00m \u001B[33m\"\u001B[39m\u001B[33mdistance\u001B[39m\u001B[33m\"\u001B[39m\n",
      "\u001B[36mFile \u001B[39m\u001B[32m~/miniconda3/envs/datasail/lib/python3.12/site-packages/datasail/report.py:308\u001B[39m, in \u001B[36mwhatever\u001B[39m\u001B[34m(names, clusters, distances, similarities)\u001B[39m\n\u001B[32m    306\u001B[39m                 val = \u001B[38;5;28mmax\u001B[39m(val, distances[i, j])\n\u001B[32m    307\u001B[39m             \u001B[38;5;28;01melse\u001B[39;00m:\n\u001B[32m--> \u001B[39m\u001B[32m308\u001B[39m                 val2 = \u001B[38;5;28mmin\u001B[39m(val2, distances[i, j])\n\u001B[32m    309\u001B[39m \u001B[38;5;28;01melse\u001B[39;00m:\n\u001B[32m    310\u001B[39m     val = \u001B[38;5;28mfloat\u001B[39m(\u001B[33m\"\u001B[39m\u001B[33minf\u001B[39m\u001B[33m\"\u001B[39m)\n",
      "\u001B[31mKeyboardInterrupt\u001B[39m: "
     ]
    }
   ],
   "execution_count": 5
  },
  {
   "cell_type": "code",
   "execution_count": null,
   "id": "11009dfc-1b96-4c9f-bf40-7de0ba54ff0f",
   "metadata": {},
   "outputs": [],
   "source": [
    "import matplotlib.pyplot as plt\n",
    "\n",
    "plt.hist(train['sequence'].str.len())\n",
    "plt.show()\n",
    "\n",
    "plt.hist(val['sequence'].str.len())\n",
    "plt.show()\n",
    "\n",
    "plt.hist(test['sequence'].str.len())\n",
    "plt.show()"
   ]
  },
  {
   "cell_type": "code",
   "execution_count": 20,
   "id": "0e298a15-62dc-4d16-a73f-08cdffb2a049",
   "metadata": {},
   "outputs": [
    {
     "name": "stderr",
     "output_type": "stream",
     "text": [
      "100%|████████████████████████████████████████████████████████████████████████████████████████████████████████████████████████████████████████████| 6927/6927 [00:00<00:00, 15373.91it/s]\n"
     ]
    }
   ],
   "source": [
    "from analysis import add_all_to_split\n",
    "\n",
    "full_split_df = add_all_to_split(split_df, unique_sequences, n_threads=16, cache_dir=cache_dir)"
   ]
  },
  {
   "cell_type": "code",
   "execution_count": null,
   "id": "a9a7f15d-6460-4103-85a9-103b7a0a2cf2",
   "metadata": {},
   "outputs": [],
   "source": [
    "import matplotlib.pyplot as plt\n",
    "\n",
    "train, val, test = get_train_val_test(full_split_df)\n",
    "total = len(full_split_df)\n",
    "print(f\"\\nAdding all unmodified sequences produced following splits: (total={total})\")\n",
    "print(f\"TRAIN: {len(train)} ({len(train) * 100 / total:.2f}%)\")\n",
    "print(f\"VAL:   {len(val)} ({len(val) * 100 / total:.2f}%)\")\n",
    "print(f\"TEST:  {len(test)} ({len(test) * 100 / total:.2f}%)\")\n",
    "\n",
    "plt.hist(train['sequence'].str.len())\n",
    "plt.show()\n",
    "\n",
    "plt.hist(val['sequence'].str.len())\n",
    "plt.show()\n",
    "\n",
    "plt.hist(test['sequence'].str.len())\n",
    "plt.show()"
   ]
  },
  {
   "cell_type": "code",
   "execution_count": 23,
   "id": "5db746ca-0e4d-478d-8dc8-c3741be4647e",
   "metadata": {},
   "outputs": [
    {
     "name": "stderr",
     "output_type": "stream",
     "text": [
      "100%|█████████████████████████████████████████████████████████████████████████████████████████████████████████████████████████████████████████| 10000/10000.0 [00:01<00:00, 6445.30it/s]\n"
     ]
    }
   ],
   "source": [
    "from analysis import create_val_test_traini\n",
    "\n",
    "# From now on, no more caching\n",
    "\n",
    "output_dir = os.path.join(cache_dir, \"subsets\")\n",
    "\n",
    "# First, iterate over the full mgf again and create val.mgf and test.mgf, also create the train index\n",
    "train_spectra, train_index = create_val_test_traini(mgf_file, full_split_df, output_dir, total=1e4)\n"
   ]
  },
  {
   "cell_type": "code",
   "execution_count": 34,
   "id": "791bfe1e-c4cf-45e3-a542-cf4be378313a",
   "metadata": {},
   "outputs": [
    {
     "name": "stdout",
     "output_type": "stream",
     "text": [
      "The autoreload extension is already loaded. To reload it, use:\n",
      "  %reload_ext autoreload\n",
      "There are 1548 peptides with at least 2 spectra\n",
      "Getting 2 spectra for 100 peptides\n",
      "Sufficient peptides with sufficient spectra, number of spectra selected: 200\n",
      "\n",
      "Getting 2 spectra for 1000 peptides\n",
      "Sufficient peptides with sufficient spectra, number of spectra selected: 2000\n",
      "\n",
      "There are 40 peptides with at least 5 spectra\n",
      "Getting 5 spectra for 100 peptides\n",
      "Got 200 spectra from peptides with enough spectra\n",
      "Added all spectra from random peptides, selected 276 spectra in total now\n",
      "\n",
      "Getting 5 spectra for 1000 peptides\n",
      "Got 200 spectra from peptides with enough spectra\n",
      "Added all spectra from random peptides, selected 1400 spectra in total now\n",
      "\n"
     ]
    }
   ],
   "source": [
    "from analysis import create_train_subsets\n",
    "\n",
    "n_train_spectra = [2, 5]\n",
    "n_train_peps = [100, 1000]\n",
    "create_train_subsets(train_spectra, train_index, n_train_spectra, n_train_peps, output_dir)"
   ]
  }
 ],
 "metadata": {
  "kernelspec": {
   "display_name": "Python 3 (ipykernel)",
   "language": "python",
   "name": "python3"
  },
  "language_info": {
   "codemirror_mode": {
    "name": "ipython",
    "version": 3
   },
   "file_extension": ".py",
   "mimetype": "text/x-python",
   "name": "python",
   "nbconvert_exporter": "python",
   "pygments_lexer": "ipython3",
   "version": "3.12.11"
  }
 },
 "nbformat": 4,
 "nbformat_minor": 5
}
