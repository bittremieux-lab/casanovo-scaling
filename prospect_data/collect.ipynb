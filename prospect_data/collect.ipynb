{
 "cells": [
  {
   "metadata": {
    "ExecuteTime": {
     "end_time": "2025-10-22T10:02:37.108335Z",
     "start_time": "2025-10-22T10:02:37.105443Z"
    }
   },
   "cell_type": "code",
   "source": [
    "import pandas as pd\n",
    "import os\n",
    "import prospectdataset as prospect\n",
    "\n",
    "def download_and_track(record: str, select_pool, save_dir, file_df, file_overview):\n",
    "    files = prospect.download_dataset(task=\"all\", record=record, save_directory=save_dir, select_pool=select_pool)[0]\n",
    "\n",
    "    files = [f for f in files if f not in file_df[\"path\"]]\n",
    "    file_df = pd.concat([file_df, pd.DataFrame({\"record\": [record]*len(files), \"select_pool\": [select_pool]*len(files), \"path\": files})])\n",
    "    file_df.to_csv(file_overview, index=False)\n",
    "    return files, file_df"
   ],
   "id": "a39b6186885efd9f",
   "outputs": [],
   "execution_count": 18
  },
  {
   "metadata": {
    "collapsed": true,
    "ExecuteTime": {
     "end_time": "2025-10-22T10:00:15.214560Z",
     "start_time": "2025-10-22T10:00:15.211447Z"
    }
   },
   "cell_type": "code",
   "source": [
    "save_dir = \"non-tryptic_data\"\n",
    "file_overview = os.path.join(save_dir, \"overview.csv\")\n",
    "\n",
    "if not os.path.isfile(file_overview):\n",
    "    file_df = pd.DataFrame(columns=[\"record\", \"select_pool\", \"path\"])\n",
    "else:\n",
    "    file_df = pd.read_csv(file_overview)\n"
   ],
   "id": "initial_id",
   "outputs": [],
   "execution_count": 16
  },
  {
   "metadata": {
    "ExecuteTime": {
     "end_time": "2025-10-22T12:54:11.475537Z",
     "start_time": "2025-10-22T10:46:26.168957Z"
    }
   },
   "cell_type": "code",
   "source": "files, file_df = download_and_track(\"prospect\", \"aspn\", save_dir, file_df, file_overview)",
   "id": "f1ec6be960d0d142",
   "outputs": [
    {
     "name": "stdout",
     "output_type": "stream",
     "text": [
      "Downloading dataset from Zenodo record prospect\n",
      "Corresponding Zenodo URL is https://zenodo.org/record/6602020\n",
      "Collected URLs:  ['/records/6602020/files/TUM_aspn.zip?download=1', '/records/6602020/files/TUM_aspn_meta_data.parquet?download=1']\n",
      "Downloading URL:  /records/6602020/files/TUM_aspn.zip?download=1\n"
     ]
    },
    {
     "ename": "KeyboardInterrupt",
     "evalue": "",
     "output_type": "error",
     "traceback": [
      "\u001B[31m---------------------------------------------------------------------------\u001B[39m",
      "\u001B[31mKeyboardInterrupt\u001B[39m                         Traceback (most recent call last)",
      "\u001B[36mCell\u001B[39m\u001B[36m \u001B[39m\u001B[32mIn[20]\u001B[39m\u001B[32m, line 1\u001B[39m\n\u001B[32m----> \u001B[39m\u001B[32m1\u001B[39m files, file_df = \u001B[43mdownload_and_track\u001B[49m\u001B[43m(\u001B[49m\u001B[33;43m\"\u001B[39;49m\u001B[33;43mprospect\u001B[39;49m\u001B[33;43m\"\u001B[39;49m\u001B[43m,\u001B[49m\u001B[43m \u001B[49m\u001B[33;43m\"\u001B[39;49m\u001B[33;43maspn\u001B[39;49m\u001B[33;43m\"\u001B[39;49m\u001B[43m,\u001B[49m\u001B[43m \u001B[49m\u001B[43msave_dir\u001B[49m\u001B[43m,\u001B[49m\u001B[43m \u001B[49m\u001B[43mfile_df\u001B[49m\u001B[43m,\u001B[49m\u001B[43m \u001B[49m\u001B[43mfile_overview\u001B[49m\u001B[43m)\u001B[49m\n",
      "\u001B[36mCell\u001B[39m\u001B[36m \u001B[39m\u001B[32mIn[18]\u001B[39m\u001B[32m, line 6\u001B[39m, in \u001B[36mdownload_and_track\u001B[39m\u001B[34m(record, select_pool, save_dir, file_df, file_overview)\u001B[39m\n\u001B[32m      5\u001B[39m \u001B[38;5;28;01mdef\u001B[39;00m\u001B[38;5;250m \u001B[39m\u001B[34mdownload_and_track\u001B[39m(record: \u001B[38;5;28mstr\u001B[39m, select_pool, save_dir, file_df, file_overview):\n\u001B[32m----> \u001B[39m\u001B[32m6\u001B[39m     files = \u001B[43mprospect\u001B[49m\u001B[43m.\u001B[49m\u001B[43mdownload_dataset\u001B[49m\u001B[43m(\u001B[49m\u001B[43mtask\u001B[49m\u001B[43m=\u001B[49m\u001B[33;43m\"\u001B[39;49m\u001B[33;43mall\u001B[39;49m\u001B[33;43m\"\u001B[39;49m\u001B[43m,\u001B[49m\u001B[43m \u001B[49m\u001B[43mrecord\u001B[49m\u001B[43m=\u001B[49m\u001B[43mrecord\u001B[49m\u001B[43m,\u001B[49m\u001B[43m \u001B[49m\u001B[43msave_directory\u001B[49m\u001B[43m=\u001B[49m\u001B[43msave_dir\u001B[49m\u001B[43m,\u001B[49m\u001B[43m \u001B[49m\u001B[43mselect_pool\u001B[49m\u001B[43m=\u001B[49m\u001B[43mselect_pool\u001B[49m\u001B[43m)\u001B[49m[\u001B[32m0\u001B[39m]\n\u001B[32m      8\u001B[39m     files = [f \u001B[38;5;28;01mfor\u001B[39;00m f \u001B[38;5;129;01min\u001B[39;00m files \u001B[38;5;28;01mif\u001B[39;00m f \u001B[38;5;129;01mnot\u001B[39;00m \u001B[38;5;129;01min\u001B[39;00m file_df[\u001B[33m\"\u001B[39m\u001B[33mpath\u001B[39m\u001B[33m\"\u001B[39m]]\n\u001B[32m      9\u001B[39m     file_df = pd.concat([file_df, pd.DataFrame({\u001B[33m\"\u001B[39m\u001B[33mrecord\u001B[39m\u001B[33m\"\u001B[39m: [record]*\u001B[38;5;28mlen\u001B[39m(files), \u001B[33m\"\u001B[39m\u001B[33mselect_pool\u001B[39m\u001B[33m\"\u001B[39m: [select_pool]*\u001B[38;5;28mlen\u001B[39m(files), \u001B[33m\"\u001B[39m\u001B[33mpath\u001B[39m\u001B[33m\"\u001B[39m: files})])\n",
      "\u001B[36mFile \u001B[39m\u001B[32m~/miniforge3/envs/datasail/lib/python3.12/site-packages/prospectdataset/download.py:130\u001B[39m, in \u001B[36mdownload_dataset\u001B[39m\u001B[34m(record, task, save_directory, select_pool)\u001B[39m\n\u001B[32m    128\u001B[39m     record = [record]\n\u001B[32m    129\u001B[39m \u001B[38;5;28;01mfor\u001B[39;00m rec \u001B[38;5;129;01min\u001B[39;00m record:\n\u001B[32m--> \u001B[39m\u001B[32m130\u001B[39m     files = \u001B[43mdownload_files\u001B[49m\u001B[43m(\u001B[49m\u001B[43mrec\u001B[49m\u001B[43m,\u001B[49m\u001B[43m \u001B[49m\u001B[43mtask\u001B[49m\u001B[43m,\u001B[49m\u001B[43m \u001B[49m\u001B[43msave_directory\u001B[49m\u001B[43m,\u001B[49m\u001B[43m \u001B[49m\u001B[43mselect_pool\u001B[49m\u001B[43m)\u001B[49m\n\u001B[32m    131\u001B[39m     all_files.append(files)\n\u001B[32m    133\u001B[39m     \u001B[38;5;28;01mif\u001B[39;00m task != \u001B[33m\"\u001B[39m\u001B[33mretention_time\u001B[39m\u001B[33m\"\u001B[39m:\n",
      "\u001B[36mFile \u001B[39m\u001B[32m~/miniforge3/envs/datasail/lib/python3.12/site-packages/prospectdataset/download.py:67\u001B[39m, in \u001B[36mdownload_files\u001B[39m\u001B[34m(record, task, save_directory, select_pool)\u001B[39m\n\u001B[32m     64\u001B[39m save_full_path = os.path.join(save_directory, filename)\n\u001B[32m     66\u001B[39m \u001B[38;5;28mprint\u001B[39m(\u001B[33m\"\u001B[39m\u001B[33mDownloading URL: \u001B[39m\u001B[33m\"\u001B[39m, u)\n\u001B[32m---> \u001B[39m\u001B[32m67\u001B[39m \u001B[43murllib\u001B[49m\u001B[43m.\u001B[49m\u001B[43mrequest\u001B[49m\u001B[43m.\u001B[49m\u001B[43murlretrieve\u001B[49m\u001B[43m(\u001B[49m\u001B[43mZENODO_BASE\u001B[49m\u001B[43m \u001B[49m\u001B[43m+\u001B[49m\u001B[43m \u001B[49m\u001B[43mu\u001B[49m\u001B[43m,\u001B[49m\u001B[43m \u001B[49m\u001B[43msave_full_path\u001B[49m\u001B[43m)\u001B[49m\n\u001B[32m     69\u001B[39m \u001B[38;5;28mprint\u001B[39m(\u001B[33m\"\u001B[39m\u001B[33mSaved file: \u001B[39m\u001B[33m\"\u001B[39m, save_full_path)\n\u001B[32m     70\u001B[39m downloaded_files.append(save_full_path)\n",
      "\u001B[36mFile \u001B[39m\u001B[32m~/miniforge3/envs/datasail/lib/python3.12/urllib/request.py:268\u001B[39m, in \u001B[36murlretrieve\u001B[39m\u001B[34m(url, filename, reporthook, data)\u001B[39m\n\u001B[32m    265\u001B[39m \u001B[38;5;28;01mif\u001B[39;00m reporthook:\n\u001B[32m    266\u001B[39m     reporthook(blocknum, bs, size)\n\u001B[32m--> \u001B[39m\u001B[32m268\u001B[39m \u001B[38;5;28;01mwhile\u001B[39;00m block := \u001B[43mfp\u001B[49m\u001B[43m.\u001B[49m\u001B[43mread\u001B[49m\u001B[43m(\u001B[49m\u001B[43mbs\u001B[49m\u001B[43m)\u001B[49m:\n\u001B[32m    269\u001B[39m     read += \u001B[38;5;28mlen\u001B[39m(block)\n\u001B[32m    270\u001B[39m     tfp.write(block)\n",
      "\u001B[36mFile \u001B[39m\u001B[32m~/miniforge3/envs/datasail/lib/python3.12/http/client.py:479\u001B[39m, in \u001B[36mHTTPResponse.read\u001B[39m\u001B[34m(self, amt)\u001B[39m\n\u001B[32m    476\u001B[39m \u001B[38;5;28;01mif\u001B[39;00m \u001B[38;5;28mself\u001B[39m.length \u001B[38;5;129;01mis\u001B[39;00m \u001B[38;5;129;01mnot\u001B[39;00m \u001B[38;5;28;01mNone\u001B[39;00m \u001B[38;5;129;01mand\u001B[39;00m amt > \u001B[38;5;28mself\u001B[39m.length:\n\u001B[32m    477\u001B[39m     \u001B[38;5;66;03m# clip the read to the \"end of response\"\u001B[39;00m\n\u001B[32m    478\u001B[39m     amt = \u001B[38;5;28mself\u001B[39m.length\n\u001B[32m--> \u001B[39m\u001B[32m479\u001B[39m s = \u001B[38;5;28;43mself\u001B[39;49m\u001B[43m.\u001B[49m\u001B[43mfp\u001B[49m\u001B[43m.\u001B[49m\u001B[43mread\u001B[49m\u001B[43m(\u001B[49m\u001B[43mamt\u001B[49m\u001B[43m)\u001B[49m\n\u001B[32m    480\u001B[39m \u001B[38;5;28;01mif\u001B[39;00m \u001B[38;5;129;01mnot\u001B[39;00m s \u001B[38;5;129;01mand\u001B[39;00m amt:\n\u001B[32m    481\u001B[39m     \u001B[38;5;66;03m# Ideally, we would raise IncompleteRead if the content-length\u001B[39;00m\n\u001B[32m    482\u001B[39m     \u001B[38;5;66;03m# wasn't satisfied, but it might break compatibility.\u001B[39;00m\n\u001B[32m    483\u001B[39m     \u001B[38;5;28mself\u001B[39m._close_conn()\n",
      "\u001B[36mFile \u001B[39m\u001B[32m~/miniforge3/envs/datasail/lib/python3.12/socket.py:720\u001B[39m, in \u001B[36mSocketIO.readinto\u001B[39m\u001B[34m(self, b)\u001B[39m\n\u001B[32m    718\u001B[39m \u001B[38;5;28;01mwhile\u001B[39;00m \u001B[38;5;28;01mTrue\u001B[39;00m:\n\u001B[32m    719\u001B[39m     \u001B[38;5;28;01mtry\u001B[39;00m:\n\u001B[32m--> \u001B[39m\u001B[32m720\u001B[39m         \u001B[38;5;28;01mreturn\u001B[39;00m \u001B[38;5;28;43mself\u001B[39;49m\u001B[43m.\u001B[49m\u001B[43m_sock\u001B[49m\u001B[43m.\u001B[49m\u001B[43mrecv_into\u001B[49m\u001B[43m(\u001B[49m\u001B[43mb\u001B[49m\u001B[43m)\u001B[49m\n\u001B[32m    721\u001B[39m     \u001B[38;5;28;01mexcept\u001B[39;00m timeout:\n\u001B[32m    722\u001B[39m         \u001B[38;5;28mself\u001B[39m._timeout_occurred = \u001B[38;5;28;01mTrue\u001B[39;00m\n",
      "\u001B[36mFile \u001B[39m\u001B[32m~/miniforge3/envs/datasail/lib/python3.12/ssl.py:1251\u001B[39m, in \u001B[36mSSLSocket.recv_into\u001B[39m\u001B[34m(self, buffer, nbytes, flags)\u001B[39m\n\u001B[32m   1247\u001B[39m     \u001B[38;5;28;01mif\u001B[39;00m flags != \u001B[32m0\u001B[39m:\n\u001B[32m   1248\u001B[39m         \u001B[38;5;28;01mraise\u001B[39;00m \u001B[38;5;167;01mValueError\u001B[39;00m(\n\u001B[32m   1249\u001B[39m           \u001B[33m\"\u001B[39m\u001B[33mnon-zero flags not allowed in calls to recv_into() on \u001B[39m\u001B[38;5;132;01m%s\u001B[39;00m\u001B[33m\"\u001B[39m %\n\u001B[32m   1250\u001B[39m           \u001B[38;5;28mself\u001B[39m.\u001B[34m__class__\u001B[39m)\n\u001B[32m-> \u001B[39m\u001B[32m1251\u001B[39m     \u001B[38;5;28;01mreturn\u001B[39;00m \u001B[38;5;28;43mself\u001B[39;49m\u001B[43m.\u001B[49m\u001B[43mread\u001B[49m\u001B[43m(\u001B[49m\u001B[43mnbytes\u001B[49m\u001B[43m,\u001B[49m\u001B[43m \u001B[49m\u001B[43mbuffer\u001B[49m\u001B[43m)\u001B[49m\n\u001B[32m   1252\u001B[39m \u001B[38;5;28;01melse\u001B[39;00m:\n\u001B[32m   1253\u001B[39m     \u001B[38;5;28;01mreturn\u001B[39;00m \u001B[38;5;28msuper\u001B[39m().recv_into(buffer, nbytes, flags)\n",
      "\u001B[36mFile \u001B[39m\u001B[32m~/miniforge3/envs/datasail/lib/python3.12/ssl.py:1103\u001B[39m, in \u001B[36mSSLSocket.read\u001B[39m\u001B[34m(self, len, buffer)\u001B[39m\n\u001B[32m   1101\u001B[39m \u001B[38;5;28;01mtry\u001B[39;00m:\n\u001B[32m   1102\u001B[39m     \u001B[38;5;28;01mif\u001B[39;00m buffer \u001B[38;5;129;01mis\u001B[39;00m \u001B[38;5;129;01mnot\u001B[39;00m \u001B[38;5;28;01mNone\u001B[39;00m:\n\u001B[32m-> \u001B[39m\u001B[32m1103\u001B[39m         \u001B[38;5;28;01mreturn\u001B[39;00m \u001B[38;5;28;43mself\u001B[39;49m\u001B[43m.\u001B[49m\u001B[43m_sslobj\u001B[49m\u001B[43m.\u001B[49m\u001B[43mread\u001B[49m\u001B[43m(\u001B[49m\u001B[38;5;28;43mlen\u001B[39;49m\u001B[43m,\u001B[49m\u001B[43m \u001B[49m\u001B[43mbuffer\u001B[49m\u001B[43m)\u001B[49m\n\u001B[32m   1104\u001B[39m     \u001B[38;5;28;01melse\u001B[39;00m:\n\u001B[32m   1105\u001B[39m         \u001B[38;5;28;01mreturn\u001B[39;00m \u001B[38;5;28mself\u001B[39m._sslobj.read(\u001B[38;5;28mlen\u001B[39m)\n",
      "\u001B[31mKeyboardInterrupt\u001B[39m: "
     ]
    }
   ],
   "execution_count": 20
  }
 ],
 "metadata": {
  "kernelspec": {
   "display_name": "Python 3",
   "language": "python",
   "name": "python3"
  },
  "language_info": {
   "codemirror_mode": {
    "name": "ipython",
    "version": 2
   },
   "file_extension": ".py",
   "mimetype": "text/x-python",
   "name": "python",
   "nbconvert_exporter": "python",
   "pygments_lexer": "ipython2",
   "version": "2.7.6"
  }
 },
 "nbformat": 4,
 "nbformat_minor": 5
}
