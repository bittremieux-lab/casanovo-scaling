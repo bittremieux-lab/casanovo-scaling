{
 "cells": [
  {
   "metadata": {
    "ExecuteTime": {
     "end_time": "2025-10-22T14:14:35.183446Z",
     "start_time": "2025-10-22T14:14:35.163936Z"
    }
   },
   "cell_type": "code",
   "source": [
    "import pandas as pd\n",
    "import os\n",
    "import prospectdataset as prospect\n",
    "\n",
    "def download_and_track(record: str, select_pool, save_dir, file_df, file_overview):\n",
    "    files = prospect.download_dataset(task=\"all\", record=record, save_directory=save_dir, select_pool=select_pool)[0]\n",
    "\n",
    "    files = [f for f in files if f not in file_df[\"path\"]]\n",
    "    file_df = pd.concat([file_df, pd.DataFrame({\"record\": [record]*len(files), \"select_pool\": [select_pool]*len(files), \"path\": files})])\n",
    "    file_df.to_csv(file_overview, index=False)\n",
    "    return files, file_df"
   ],
   "id": "a39b6186885efd9f",
   "outputs": [],
   "execution_count": 3
  },
  {
   "metadata": {
    "collapsed": true,
    "ExecuteTime": {
     "end_time": "2025-10-22T14:17:21.470173Z",
     "start_time": "2025-10-22T14:17:21.462073Z"
    }
   },
   "cell_type": "code",
   "source": [
    "save_dir = \"/mnt/data/cdens/casanovo-scaling/prospect_data/non-tryptic_data\"\n",
    "file_overview = os.path.join(save_dir, \"overview.csv\")\n",
    "\n",
    "if not os.path.isfile(file_overview):\n",
    "    file_df = pd.DataFrame(columns=[\"record\", \"select_pool\", \"path\"])\n",
    "else:\n",
    "    file_df = pd.read_csv(file_overview)\n"
   ],
   "id": "initial_id",
   "outputs": [],
   "execution_count": 6
  },
  {
   "metadata": {
    "jupyter": {
     "is_executing": true
    },
    "ExecuteTime": {
     "start_time": "2025-10-22T14:17:34.069366Z"
    }
   },
   "cell_type": "code",
   "source": [
    "files, file_df = download_and_track(\"prospect\", \"aspn\", save_dir, file_df, file_overview)\n",
    "files1, file_df = download_and_track(\"prospect\", \"lysn\", save_dir, file_df, file_overview)\n",
    "files2, file_df = download_and_track(\"prospect\", \"HLA\", save_dir, file_df, file_overview)"
   ],
   "id": "f1ec6be960d0d142",
   "outputs": [
    {
     "name": "stdout",
     "output_type": "stream",
     "text": [
      "Downloading dataset from Zenodo record prospect\n",
      "Corresponding Zenodo URL is https://zenodo.org/record/6602020\n",
      "Collected URLs:  ['/records/6602020/files/TUM_aspn.zip?download=1', '/records/6602020/files/TUM_aspn_meta_data.parquet?download=1']\n",
      "Downloading URL:  /records/6602020/files/TUM_aspn.zip?download=1\n"
     ]
    }
   ],
   "execution_count": null
  },
  {
   "metadata": {},
   "cell_type": "code",
   "outputs": [],
   "execution_count": null,
   "source": [
    "files3, file_df = download_and_track(\"tmt\", \"aspn\", save_dir, file_df, file_overview)\n",
    "files4, file_df = download_and_track(\"tmt\", \"lysn\", save_dir, file_df, file_overview)\n",
    "files5, file_df = download_and_track(\"tmt\", \"HLA\", save_dir, file_df, file_overview)"
   ],
   "id": "a7b99000f7e66db0"
  },
  {
   "metadata": {},
   "cell_type": "code",
   "outputs": [],
   "execution_count": null,
   "source": "",
   "id": "6c1c0d9f4febfced"
  }
 ],
 "metadata": {
  "kernelspec": {
   "display_name": "Python 3",
   "language": "python",
   "name": "python3"
  },
  "language_info": {
   "codemirror_mode": {
    "name": "ipython",
    "version": 2
   },
   "file_extension": ".py",
   "mimetype": "text/x-python",
   "name": "python",
   "nbconvert_exporter": "python",
   "pygments_lexer": "ipython2",
   "version": "2.7.6"
  }
 },
 "nbformat": 4,
 "nbformat_minor": 5
}
